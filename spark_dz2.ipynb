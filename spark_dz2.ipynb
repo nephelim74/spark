{
  "nbformat": 4,
  "nbformat_minor": 0,
  "metadata": {
    "colab": {
      "provenance": [],
      "authorship_tag": "ABX9TyP4bSIWq34SKBI0tC8ZCP8X",
      "include_colab_link": true
    },
    "kernelspec": {
      "name": "python3",
      "display_name": "Python 3"
    },
    "language_info": {
      "name": "python"
    }
  },
  "cells": [
    {
      "cell_type": "markdown",
      "metadata": {
        "id": "view-in-github",
        "colab_type": "text"
      },
      "source": [
        "<a href=\"https://colab.research.google.com/github/nephelim74/BeginProg/blob/main/spark_dz2.ipynb\" target=\"_parent\"><img src=\"https://colab.research.google.com/assets/colab-badge.svg\" alt=\"Open In Colab\"/></a>"
      ]
    },
    {
      "cell_type": "code",
      "execution_count": 14,
      "metadata": {
        "id": "oKZ6D946OVc0"
      },
      "outputs": [],
      "source": [
        "from pyspark.sql import SparkSession\n",
        "from pyspark.sql import functions as F"
      ]
    },
    {
      "cell_type": "code",
      "source": [
        "# Создаем SparkSession\n",
        "spark = SparkSession.builder \\\n",
        "    .appName(\"Employee Salary Comparison\") \\\n",
        "    .getOrCreate()"
      ],
      "metadata": {
        "id": "tFXzlvrEPU0S"
      },
      "execution_count": 15,
      "outputs": []
    },
    {
      "cell_type": "code",
      "source": [
        "# Данные\n",
        "data = [\n",
        "    (1, 'Joe', '70', '3'),\n",
        "    (2, 'Henry', '80', '4'),\n",
        "    (3, 'Sam', '60', None),\n",
        "    (4, 'Max', '90', None)\n",
        "]\n"
      ],
      "metadata": {
        "id": "__Y3Ij1zQhDP"
      },
      "execution_count": 16,
      "outputs": []
    },
    {
      "cell_type": "code",
      "source": [
        "# Создаем DataFrame с явным указанием схемы\n",
        "columns = ['id', 'Name', 'Salary', 'ManagerId']\n",
        "df = spark.createDataFrame(data, schema=columns)"
      ],
      "metadata": {
        "id": "ldEG4PYXQxRp"
      },
      "execution_count": 17,
      "outputs": []
    },
    {
      "cell_type": "code",
      "source": [
        "# Преобразуем Salary в числовой формат\n",
        "df = df.withColumn(\"Salary\", df[\"Salary\"].cast(\"int\"))"
      ],
      "metadata": {
        "id": "6TYpoIBiRMfR"
      },
      "execution_count": 18,
      "outputs": []
    },
    {
      "cell_type": "code",
      "source": [
        "# Печатаем исходный DataFrame\n",
        "print(\"Исходный DataFrame:\")\n",
        "df.show()"
      ],
      "metadata": {
        "colab": {
          "base_uri": "https://localhost:8080/"
        },
        "id": "lJnzNrjwRQX9",
        "outputId": "43d90c40-9b56-4ea6-e6ed-78f195d71cbc"
      },
      "execution_count": 19,
      "outputs": [
        {
          "output_type": "stream",
          "name": "stdout",
          "text": [
            "Исходный DataFrame:\n",
            "+---+-----+------+---------+\n",
            "| id| Name|Salary|ManagerId|\n",
            "+---+-----+------+---------+\n",
            "|  1|  Joe|    70|        3|\n",
            "|  2|Henry|    80|        4|\n",
            "|  3|  Sam|    60|     NULL|\n",
            "|  4|  Max|    90|     NULL|\n",
            "+---+-----+------+---------+\n",
            "\n"
          ]
        }
      ]
    },
    {
      "cell_type": "code",
      "source": [
        "# Объединяем таблицу с самой собой для сопоставления сотрудников и их менеджеров\n",
        "joined_df = df.alias(\"employee\") \\\n",
        "    .join(df.alias(\"manager\"), F.col(\"employee.ManagerId\") == F.col(\"manager.id\"), \"left\") \\\n",
        "    .select(F.col(\"employee.Name\").alias(\"EmployeeName\"),\n",
        "            F.col(\"employee.Salary\").alias(\"EmployeeSalary\"),\n",
        "            F.col(\"manager.Name\").alias(\"ManagerName\"),\n",
        "            F.col(\"manager.Salary\").alias(\"ManagerSalary\"))"
      ],
      "metadata": {
        "id": "j5yeENVbRZY4"
      },
      "execution_count": 20,
      "outputs": []
    },
    {
      "cell_type": "code",
      "source": [
        "# Фильтруем сотрудников, которые зарабатывают больше своих менеджеров\n",
        "result_df = joined_df.filter(F.col(\"EmployeeSalary\") > F.col(\"ManagerSalary\")) \\\n",
        "    .select(\"EmployeeName\")"
      ],
      "metadata": {
        "id": "lcJwuz3sReWr"
      },
      "execution_count": 21,
      "outputs": []
    },
    {
      "cell_type": "code",
      "source": [
        "# Печатаем результат\n",
        "print(\"Сотрудники, которые зарабатывают больше своих менеджеров:\")\n",
        "result_df.show()\n",
        "\n",
        "# Останавливаем SparkSession\n",
        "spark.stop()"
      ],
      "metadata": {
        "colab": {
          "base_uri": "https://localhost:8080/"
        },
        "id": "lB5TIxMqRm8A",
        "outputId": "6d460651-942f-4dc6-d006-4776e6aa0902"
      },
      "execution_count": 22,
      "outputs": [
        {
          "output_type": "stream",
          "name": "stdout",
          "text": [
            "Сотрудники, которые зарабатывают больше своих менеджеров:\n",
            "+------------+\n",
            "|EmployeeName|\n",
            "+------------+\n",
            "|         Joe|\n",
            "+------------+\n",
            "\n"
          ]
        }
      ]
    }
  ]
}