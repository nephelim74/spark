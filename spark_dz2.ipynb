{
  "nbformat": 4,
  "nbformat_minor": 0,
  "metadata": {
    "colab": {
      "provenance": [],
      "authorship_tag": "ABX9TyMawHu3zxcvAKCRStip9nIZ",
      "include_colab_link": true
    },
    "kernelspec": {
      "name": "python3",
      "display_name": "Python 3"
    },
    "language_info": {
      "name": "python"
    }
  },
  "cells": [
    {
      "cell_type": "markdown",
      "metadata": {
        "id": "view-in-github",
        "colab_type": "text"
      },
      "source": [
        "<a href=\"https://colab.research.google.com/github/nephelim74/BeginProg/blob/main/spark_dz2.ipynb\" target=\"_parent\"><img src=\"https://colab.research.google.com/assets/colab-badge.svg\" alt=\"Open In Colab\"/></a>"
      ]
    },
    {
      "cell_type": "code",
      "execution_count": 1,
      "metadata": {
        "id": "oKZ6D946OVc0"
      },
      "outputs": [],
      "source": [
        "from pyspark.sql import SparkSession\n",
        "from pyspark.sql import functions as F"
      ]
    },
    {
      "cell_type": "code",
      "source": [
        "# Создаем SparkSession\n",
        "spark = SparkSession.builder \\\n",
        "    .appName(\"Employee Salary Comparison\") \\\n",
        "    .getOrCreate()"
      ],
      "metadata": {
        "id": "tFXzlvrEPU0S"
      },
      "execution_count": 2,
      "outputs": []
    },
    {
      "cell_type": "code",
      "source": [
        "# Данные\n",
        "data = [\n",
        "    (1, 'Joe', '70', '3'),\n",
        "    (2, 'Henry', '80', '4'),\n",
        "    (3, 'Sam', '60', None),\n",
        "    (4, 'Max', '90', None)\n",
        "]\n"
      ],
      "metadata": {
        "id": "__Y3Ij1zQhDP"
      },
      "execution_count": 3,
      "outputs": []
    },
    {
      "cell_type": "code",
      "source": [
        "# Создаем DataFrame с явным указанием схемы\n",
        "columns = ['id', 'Name', 'Salary', 'ManagerId']\n",
        "df = spark.createDataFrame(data, schema=columns)"
      ],
      "metadata": {
        "id": "ldEG4PYXQxRp"
      },
      "execution_count": 4,
      "outputs": []
    },
    {
      "cell_type": "code",
      "source": [
        "# Преобразуем Salary в числовой формат\n",
        "df = df.withColumn(\"Salary\", df[\"Salary\"].cast(\"int\"))"
      ],
      "metadata": {
        "id": "6TYpoIBiRMfR"
      },
      "execution_count": 5,
      "outputs": []
    },
    {
      "cell_type": "code",
      "source": [
        "# Печатаем исходный DataFrame\n",
        "print(\"Исходный DataFrame:\")\n",
        "df.show()"
      ],
      "metadata": {
        "colab": {
          "base_uri": "https://localhost:8080/"
        },
        "id": "lJnzNrjwRQX9",
        "outputId": "ac6ec20f-c970-4e6e-912f-811a09eeb6c4"
      },
      "execution_count": 6,
      "outputs": [
        {
          "output_type": "stream",
          "name": "stdout",
          "text": [
            "Исходный DataFrame:\n",
            "+---+-----+------+---------+\n",
            "| id| Name|Salary|ManagerId|\n",
            "+---+-----+------+---------+\n",
            "|  1|  Joe|    70|        3|\n",
            "|  2|Henry|    80|        4|\n",
            "|  3|  Sam|    60|     NULL|\n",
            "|  4|  Max|    90|     NULL|\n",
            "+---+-----+------+---------+\n",
            "\n"
          ]
        }
      ]
    },
    {
      "cell_type": "code",
      "source": [
        "# Объединяем таблицу с самой собой для сопоставления сотрудников и их менеджеров\n",
        "joined_df = df.alias(\"employee\") \\\n",
        "    .join(df.alias(\"manager\"), F.col(\"employee.ManagerId\") == F.col(\"manager.id\"), \"left\") \\\n",
        "    .select(F.col(\"employee.Name\").alias(\"EmployeeName\"),\n",
        "            F.col(\"employee.Salary\").alias(\"EmployeeSalary\"),\n",
        "            F.col(\"manager.Name\").alias(\"ManagerName\"),\n",
        "            F.col(\"manager.Salary\").alias(\"ManagerSalary\"))"
      ],
      "metadata": {
        "id": "j5yeENVbRZY4"
      },
      "execution_count": 9,
      "outputs": []
    },
    {
      "cell_type": "code",
      "source": [
        "# Фильтруем сотрудников, которые зарабатывают больше своих менеджеров\n",
        "result_df = joined_df.filter(F.col(\"EmployeeSalary\") > F.col(\"ManagerSalary\")) \\\n",
        "    .select(\"EmployeeName\")"
      ],
      "metadata": {
        "id": "lcJwuz3sReWr"
      },
      "execution_count": 10,
      "outputs": []
    },
    {
      "cell_type": "code",
      "source": [
        "# Печатаем результат\n",
        "print(\"Сотрудники, которые зарабатывают больше своих менеджеров:\")\n",
        "result_df.show()\n",
        "\n",
        "# Останавливаем SparkSession\n",
        "spark.stop()"
      ],
      "metadata": {
        "colab": {
          "base_uri": "https://localhost:8080/"
        },
        "id": "lB5TIxMqRm8A",
        "outputId": "a6071f7a-c6ae-4022-9001-ed7a644a6627"
      },
      "execution_count": 11,
      "outputs": [
        {
          "output_type": "stream",
          "name": "stdout",
          "text": [
            "Сотрудники, которые зарабатывают больше своих менеджеров:\n",
            "+------------+\n",
            "|EmployeeName|\n",
            "+------------+\n",
            "|         Joe|\n",
            "+------------+\n",
            "\n"
          ]
        }
      ]
    },
    {
      "cell_type": "markdown",
      "source": [
        "### 1) Первым делом создается объект `SparkSession` с именем приложения \"Employee Salary Comparison\". `getOrCreate()` создает новую сессию\n",
        "### 2)  Задается список кортежей, представляющих данные о сотрудниках: `(id, Name, Salary, ManagerId)`\n",
        "### 3) Создается DataFrame `df` из данных `data`. `schema=columns` явно указывает имена столбцов\n",
        "### 4) Столбец \"Salary\" преобразуется из строкового типа в целочисленный (`int`). Это необходимо для числовых сравнений.\n",
        "\n",
        "### 5) Происходит соединение (`self-join`) DataFrame `df` с самим собой:\n",
        "      * `df.alias(\"employee\")`: DataFrame переименовывается в \"employee\".\n",
        "      * `df.alias(\"manager\")`: DataFrame переименовывается в \"manager\".\n",
        "      * `.join(...)`: Объединение выполняется по условию `employee.ManagerId == manager.id` (здесь используется `F.col` для указания столбцов). `left` означает левое внешнее соединение, сохраняющее всех сотрудников, даже если у них нет менеджера.\n",
        "      * `.select(...)`: Выбираются нужные столбцы и переименовываются для ясности.\n",
        "Создается врт такая таблица, в которой строки включают связку по id и ManagerId:\n",
        "Сотрудник и его менеджер"
      ],
      "metadata": {
        "id": "6PTvs5jx2b2a"
      }
    },
    {
      "cell_type": "code",
      "source": [
        "joined_df.show()"
      ],
      "metadata": {
        "colab": {
          "base_uri": "https://localhost:8080/"
        },
        "id": "YZ0NDIbf4sWx",
        "outputId": "427ab684-2473-4664-f8ac-66383515f995"
      },
      "execution_count": 8,
      "outputs": [
        {
          "output_type": "stream",
          "name": "stdout",
          "text": [
            "+------------+--------------+-----------+-------------+\n",
            "|EmployeeName|EmployeeSalary|ManagerName|ManagerSalary|\n",
            "+------------+--------------+-----------+-------------+\n",
            "|         Joe|            70|        Sam|           60|\n",
            "|       Henry|            80|        Max|           90|\n",
            "|         Sam|            60|       NULL|         NULL|\n",
            "|         Max|            90|       NULL|         NULL|\n",
            "+------------+--------------+-----------+-------------+\n",
            "\n"
          ]
        }
      ]
    },
    {
      "cell_type": "markdown",
      "source": [
        "### 6) Фильтрование `joined_df`, оставляя только строки, где зарплата сотрудника (`EmployeeSalary`) больше зарплаты его менеджера (`ManagerSalary`). Выбираются только имена сотрудников (`EmployeeName`)."
      ],
      "metadata": {
        "id": "-j2WLTuI5w9P"
      }
    }
  ]
}