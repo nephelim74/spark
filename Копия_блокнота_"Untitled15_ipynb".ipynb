{
  "nbformat": 4,
  "nbformat_minor": 0,
  "metadata": {
    "colab": {
      "provenance": [],
      "authorship_tag": "ABX9TyOhZwlNIrHaOs45wQg8B/2Q",
      "include_colab_link": true
    },
    "kernelspec": {
      "name": "python3",
      "display_name": "Python 3"
    },
    "language_info": {
      "name": "python"
    }
  },
  "cells": [
    {
      "cell_type": "markdown",
      "metadata": {
        "id": "view-in-github",
        "colab_type": "text"
      },
      "source": [
        "<a href=\"https://colab.research.google.com/github/nephelim74/spark/blob/main/%D0%9A%D0%BE%D0%BF%D0%B8%D1%8F_%D0%B1%D0%BB%D0%BE%D0%BA%D0%BD%D0%BE%D1%82%D0%B0_%22Untitled15_ipynb%22.ipynb\" target=\"_parent\"><img src=\"https://colab.research.google.com/assets/colab-badge.svg\" alt=\"Open In Colab\"/></a>"
      ]
    },
    {
      "cell_type": "code",
      "execution_count": null,
      "metadata": {
        "id": "Gy-eqcbbO_Mo"
      },
      "outputs": [],
      "source": []
    },
    {
      "cell_type": "markdown",
      "source": [
        "Домашнее задание 3\n",
        "Условие: есть набор данных о продажах продуктов с информацией о дате продаж, категории продукта, количестве и выручке от продаж.\n",
        "Используя Apache Spark, загрузите предоставленный набор данных в DataFrame (пример данных ниже).\n",
        "\n",
        "(\"2023-11-20\", \"Electronics\", 100, 12000),\n",
        "(\"2023-11-21\", \"Electronics\", 110, 13000),\n",
        "(\"2023-11-22\", \"Electronics\", 105, 12500),\n",
        "(\"2023-11-20\", \"Clothing\", 300, 15000),\n",
        "(\"2023-11-21\", \"Clothing\", 280, 14000),\n",
        "(\"2023-11-22\", \"Clothing\", 320, 16000),\n",
        "(\"2023-11-20\", \"Books\", 150, 9000),\n",
        "(\"2023-11-21\", \"Books\", 200, 12000),\n",
        "(\"2023-11-22\", \"Books\", 180, 10000)\n",
        "Столбцы: \"date\", \"category\", \"quantity\", \"revenue\".\n",
        "\n",
        "С использованием оконных функций, рассчитайте среднее выручки от продаж для каждой категории продукта. Примените операцию pivot для того, чтобы преобразовать полученные данные таким образом, чтобы в качестве строк были категории продуктов, в качестве столбцов были дни, а значениями были средние значения выручки от продаж за соответствующий день"
      ],
      "metadata": {
        "id": "k8GAJW1pPAQz"
      }
    },
    {
      "cell_type": "code",
      "source": [],
      "metadata": {
        "id": "NKgM_UKDPCEF"
      },
      "execution_count": null,
      "outputs": []
    },
    {
      "cell_type": "code",
      "source": [
        "from pyspark.sql import SparkSession\n",
        "from pyspark.sql.functions import col, mean, to_date\n",
        "from pyspark.sql import functions as F\n"
      ],
      "metadata": {
        "id": "7DaWUwm3PDRx"
      },
      "execution_count": null,
      "outputs": []
    },
    {
      "cell_type": "code",
      "source": [
        "# Создаем DataFrame\n",
        "spark = SparkSession.builder.appName(\"Sales Data Analysis\").getOrCreate()"
      ],
      "metadata": {
        "id": "ErLBRZ8APDOM"
      },
      "execution_count": null,
      "outputs": []
    },
    {
      "cell_type": "code",
      "source": [
        "# Данные о продажах\n",
        "data = [\n",
        "    (\"2023-11-20\", \"Electronics\", 100, 12000),\n",
        "    (\"2023-11-21\", \"Electronics\", 110, 13000),\n",
        "    (\"2023-11-22\", \"Electronics\", 105, 12500),\n",
        "    (\"2023-11-20\", \"Clothing\", 300, 15000),\n",
        "    (\"2023-11-21\", \"Clothing\", 280, 14000),\n",
        "    (\"2023-11-22\", \"Clothing\", 320, 16000),\n",
        "    (\"2023-11-20\", \"Books\", 150, 9000),\n",
        "    (\"2023-11-21\", \"Books\", 200, 12000),\n",
        "    (\"2023-11-22\", \"Books\", 180, 10000)\n",
        "]\n",
        "\n",
        "columns = [\"date\", \"category\", \"quantity\", \"revenue\"]\n",
        "\n",
        "# Создаем DataFrame\n",
        "df = spark.createDataFrame(data, schema=columns)\n",
        "df.show()\n"
      ],
      "metadata": {
        "colab": {
          "base_uri": "https://localhost:8080/"
        },
        "id": "LNmC8oYJPDKh",
        "outputId": "bd21344f-31d0-44d5-e499-57ea706879f5"
      },
      "execution_count": null,
      "outputs": [
        {
          "output_type": "stream",
          "name": "stdout",
          "text": [
            "+----------+-----------+--------+-------+\n",
            "|      date|   category|quantity|revenue|\n",
            "+----------+-----------+--------+-------+\n",
            "|2023-11-20|Electronics|     100|  12000|\n",
            "|2023-11-21|Electronics|     110|  13000|\n",
            "|2023-11-22|Electronics|     105|  12500|\n",
            "|2023-11-20|   Clothing|     300|  15000|\n",
            "|2023-11-21|   Clothing|     280|  14000|\n",
            "|2023-11-22|   Clothing|     320|  16000|\n",
            "|2023-11-20|      Books|     150|   9000|\n",
            "|2023-11-21|      Books|     200|  12000|\n",
            "|2023-11-22|      Books|     180|  10000|\n",
            "+----------+-----------+--------+-------+\n",
            "\n"
          ]
        }
      ]
    },
    {
      "cell_type": "code",
      "source": [
        "# Преобразуем столбец date в тип date\n",
        "df = df.withColumn(\"date\", to_date(col(\"date\"), \"yyyy-MM-dd\"))"
      ],
      "metadata": {
        "id": "evPjcffgT28c"
      },
      "execution_count": null,
      "outputs": []
    },
    {
      "cell_type": "code",
      "source": [
        "# Рассчитываем среднее значение выручки по категории и дате\n",
        "avg_revenue_df = df.groupBy(\"date\", \"category\").agg(F.avg(\"revenue\").alias(\"avg_revenue\")).orderBy(\"date\", \"avg_revenue\")\n",
        "# avg_revenue_df = avg_revenue_df.orderBy(\"date\")\n",
        "avg_revenue_df.show()\n"
      ],
      "metadata": {
        "colab": {
          "base_uri": "https://localhost:8080/"
        },
        "id": "IaIM_D0jPDGO",
        "outputId": "03787d81-f19b-44fa-9f22-de343b043261"
      },
      "execution_count": null,
      "outputs": [
        {
          "output_type": "stream",
          "name": "stdout",
          "text": [
            "+----------+-----------+-----------+\n",
            "|      date|   category|avg_revenue|\n",
            "+----------+-----------+-----------+\n",
            "|2023-11-20|      Books|     9000.0|\n",
            "|2023-11-20|Electronics|    12000.0|\n",
            "|2023-11-20|   Clothing|    15000.0|\n",
            "|2023-11-21|      Books|    12000.0|\n",
            "|2023-11-21|Electronics|    13000.0|\n",
            "|2023-11-21|   Clothing|    14000.0|\n",
            "|2023-11-22|      Books|    10000.0|\n",
            "|2023-11-22|Electronics|    12500.0|\n",
            "|2023-11-22|   Clothing|    16000.0|\n",
            "+----------+-----------+-----------+\n",
            "\n"
          ]
        }
      ]
    },
    {
      "cell_type": "code",
      "source": [
        "# Применяем pivot для преобразования данных\n",
        "pivot_df = avg_revenue_df.groupBy(\"category\").pivot(\"date\").agg(F.first(\"avg_revenue\"))\n"
      ],
      "metadata": {
        "id": "8zBYQ5TCPDAk"
      },
      "execution_count": null,
      "outputs": []
    },
    {
      "cell_type": "code",
      "source": [
        "# Выводим результат\n",
        "pivot_df.show()\n"
      ],
      "metadata": {
        "colab": {
          "base_uri": "https://localhost:8080/"
        },
        "id": "hnNo1SU0PC8s",
        "outputId": "1b3a088c-6bc7-42d2-e981-f6f6aa4c9c39"
      },
      "execution_count": null,
      "outputs": [
        {
          "output_type": "stream",
          "name": "stdout",
          "text": [
            "+-----------+----------+----------+----------+\n",
            "|   category|2023-11-20|2023-11-21|2023-11-22|\n",
            "+-----------+----------+----------+----------+\n",
            "|Electronics|   12000.0|   13000.0|   12500.0|\n",
            "|   Clothing|   15000.0|   14000.0|   16000.0|\n",
            "|      Books|    9000.0|   12000.0|   10000.0|\n",
            "+-----------+----------+----------+----------+\n",
            "\n"
          ]
        }
      ]
    },
    {
      "cell_type": "code",
      "source": [
        "# Останавливаем SparkSession\n",
        "spark.stop()"
      ],
      "metadata": {
        "id": "Q4-tqYDSPCzf"
      },
      "execution_count": null,
      "outputs": []
    },
    {
      "cell_type": "code",
      "source": [],
      "metadata": {
        "id": "DuY3AKV0PCpZ"
      },
      "execution_count": null,
      "outputs": []
    }
  ]
}