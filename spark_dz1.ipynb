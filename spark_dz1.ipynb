{
 "cells": [
  {
   "cell_type": "markdown",
   "metadata": {
    "colab_type": "text",
    "id": "view-in-github"
   },
   "source": [
    "<a href=\"https://colab.research.google.com/github/nephelim74/BeginProg/blob/main/spark_dz1.ipynb\" target=\"_parent\"><img src=\"https://colab.research.google.com/assets/colab-badge.svg\" alt=\"Open In Colab\"/></a>"
   ]
  },
  {
   "cell_type": "code",
   "execution_count": 1,
   "metadata": {
    "id": "p8gN5lh9EISW"
   },
   "outputs": [],
   "source": [
    "from pyspark import SparkContext"
   ]
  },
  {
   "cell_type": "code",
   "execution_count": 2,
   "metadata": {
    "id": "du0qpue-EU2W"
   },
   "outputs": [],
   "source": [
    "# Инициализация SparkContext\n",
    "sc = SparkContext(\"local\", \"LongestOrderedSequence\")\n",
    "\n",
    "# Пример данных\n",
    "data = [1, 2, 3, 2, 5, 6, 7, 8, 1, 2, 3, 4, 5, 10, 11, 2, 3, 50, 44, 45, 46, 47, 48, 49, 50, 51, 7, 8, 2, 7]\n",
    "rdd = sc.parallelize(data)\n"
   ]
  },
  {
   "cell_type": "code",
   "execution_count": 7,
   "metadata": {
    "id": "yqI7lOdCEJrD"
   },
   "outputs": [],
   "source": [
    "# Функция для нахождения самой длинной последовательности упорядоченных чисел\n",
    "def longest_ordered_sequence(numbers):\n",
    "    longest_seq = []\n",
    "    current_seq = []\n",
    "\n",
    "    for i in range(len(numbers)):\n",
    "        # Если это первый элемент или текущий элемент больше предыдущего\n",
    "        if i == 0 or numbers[i] > numbers[i - 1]:\n",
    "            current_seq.append(numbers[i])\n",
    "        else:\n",
    "            # Сравниваем текущую последовательность с самой длинной\n",
    "            if len(current_seq) > len(longest_seq):\n",
    "                longest_seq = current_seq\n",
    "            current_seq = [numbers[i]]  # Начинаем новую последовательность\n",
    "\n",
    "    # Проверяем в конце, чтобы учесть последовательность, которая может закончиться последним элементом\n",
    "    if len(current_seq) > len(longest_seq):\n",
    "        longest_seq = current_seq\n",
    "\n",
    "    return longest_seq\n"
   ]
  },
  {
   "cell_type": "code",
   "execution_count": 8,
   "metadata": {
    "colab": {
     "base_uri": "https://localhost:8080/"
    },
    "id": "cM7nVw4EEJw5",
    "outputId": "71f7edd3-ee35-41d9-d95e-aa1475069a4f"
   },
   "outputs": [
    {
     "name": "stdout",
     "output_type": "stream",
     "text": [
      "Самая длинная последовательность упорядоченных чисел: [44, 45, 46, 47, 48, 49, 50, 51]\n"
     ]
    }
   ],
   "source": [
    "# Применение функции к RDD\n",
    "result = rdd.collect()  # Собираем данные из RDD в список\n",
    "longest_sequence = longest_ordered_sequence(result)\n",
    "\n",
    "# Вывод результата\n",
    "print(\"Самая длинная последовательность упорядоченных чисел:\", longest_sequence)"
   ]
  },
  {
   "cell_type": "code",
   "execution_count": 9,
   "metadata": {
    "id": "DXXHrk91EJ1r"
   },
   "outputs": [],
   "source": [
    "# Остановка SparkContext\n",
    "sc.stop()"
   ]
  },
  {
   "cell_type": "code",
   "execution_count": null,
   "metadata": {
    "id": "YunhXgzgEKSV"
   },
   "outputs": [],
   "source": []
  }
 ],
 "metadata": {
  "colab": {
   "authorship_tag": "ABX9TyMQJL0QKtOpgPt2YyuQWy8Y",
   "include_colab_link": true,
   "provenance": []
  },
  "kernelspec": {
   "display_name": "sparkless1",
   "language": "python",
   "name": "python3"
  },
  "language_info": {
   "codemirror_mode": {
    "name": "ipython",
    "version": 3
   },
   "file_extension": ".py",
   "mimetype": "text/x-python",
   "name": "python",
   "nbconvert_exporter": "python",
   "pygments_lexer": "ipython3",
   "version": "3.12.7"
  }
 },
 "nbformat": 4,
 "nbformat_minor": 0
}
