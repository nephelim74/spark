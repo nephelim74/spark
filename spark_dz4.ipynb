{
  "nbformat": 4,
  "nbformat_minor": 0,
  "metadata": {
    "colab": {
      "provenance": [],
      "authorship_tag": "ABX9TyOVeLHwICvuNJbMumbaNVJe",
      "include_colab_link": true
    },
    "kernelspec": {
      "name": "python3",
      "display_name": "Python 3"
    },
    "language_info": {
      "name": "python"
    }
  },
  "cells": [
    {
      "cell_type": "markdown",
      "metadata": {
        "id": "view-in-github",
        "colab_type": "text"
      },
      "source": [
        "<a href=\"https://colab.research.google.com/github/nephelim74/spark/blob/main/spark_dz4.ipynb\" target=\"_parent\"><img src=\"https://colab.research.google.com/assets/colab-badge.svg\" alt=\"Open In Colab\"/></a>"
      ]
    },
    {
      "cell_type": "code",
      "source": [
        "!pip install pyspark >> None"
      ],
      "metadata": {
        "id": "HtZvtzYvGTc8"
      },
      "execution_count": 1,
      "outputs": []
    },
    {
      "cell_type": "code",
      "execution_count": 2,
      "metadata": {
        "id": "JQYzFY9_GEQm"
      },
      "outputs": [],
      "source": [
        "from pyspark.sql import SparkSession\n",
        "from pyspark.sql import functions as F\n",
        "import pandas as pd"
      ]
    },
    {
      "cell_type": "code",
      "source": [
        "# Создание объекта SparkSession\n",
        "spark = SparkSession.builder.appName(\"Streaming Odd Number Sum\").getOrCreate()"
      ],
      "metadata": {
        "id": "0CCB6gVtGdSX"
      },
      "execution_count": 3,
      "outputs": []
    },
    {
      "cell_type": "code",
      "source": [
        "# Создание потока данных с использованием источника rate\n",
        "inputStream = spark.readStream.format(\"rate\").option(\"rowsPerSecond\", 1).load()"
      ],
      "metadata": {
        "id": "qfpKT46pHNCT"
      },
      "execution_count": 5,
      "outputs": []
    },
    {
      "cell_type": "code",
      "source": [
        "# Преобразуем входные данные, чтобы получить целые числа\n",
        "numbers = inputStream.select((F.col(\"value\") % 10).alias(\"id\"))\n",
        "#inputStream: Это поток данных, который получаем из rate, который генерирует последовательные числа.\n",
        "#В результате, inputStream будет содержать DataFrame с колонкой value, где каждое значение — это целое число, генерируемое в режиме реального времени.\n",
        "#F.col(\"value\"): Это функция из библиотеки pyspark.sql.functions, которая позволяет ссылаться на колонку value в DataFrame.\n",
        "# В данном случае, мы обращаемся к колонке, содержащей числа, сгенерированные потоком.\n",
        "#% 10: Выводим только числа от 0 до 9\n",
        "#.alias(\"id\"): создаем алиас для колонки содержащей остаток от деления.\n",
        "\n"
      ],
      "metadata": {
        "id": "174khKO-HbsQ"
      },
      "execution_count": 8,
      "outputs": []
    },
    {
      "cell_type": "code",
      "source": [
        "# Создаем потоковую агрегацию для суммирования нечётных чисел\n",
        "odd_numbers = numbers.filter(numbers.id % 2 != 0)"
      ],
      "metadata": {
        "id": "U3VF-QJ_Hbnl"
      },
      "execution_count": 9,
      "outputs": []
    },
    {
      "cell_type": "code",
      "source": [
        "# Инициализация переменной для хранения суммы\n",
        "total_sum = 0"
      ],
      "metadata": {
        "id": "2rTk2WiFHbkf"
      },
      "execution_count": 10,
      "outputs": []
    },
    {
      "cell_type": "code",
      "source": [
        "# Функция для обработки каждого батча\n",
        "def process_batch(batch_df, batch_id):\n",
        "    global total_sum  # Используем глобальную переменную для хранения суммы\n",
        "    print(f\"Обработка batch ID: {batch_id}\")\n",
        "\n",
        "    if not batch_df.isEmpty():  # Проверяем, что DataFrame не пустой\n",
        "        # Преобразуем в Pandas DataFrame для удобства вывода\n",
        "        pandas_df = batch_df.toPandas()\n",
        "        # Суммируем только нечетные числа в текущем батче\n",
        "        batch_sum = pandas_df['id'].sum()\n",
        "        # Обновляем общую сумму\n",
        "        total_sum += batch_sum\n",
        "        # Выводим каждое полученное число и текущую сумму\n",
        "        for index, row in pandas_df.iterrows():\n",
        "           print(f\"Получено нечетное число: {row['id']}, Текущая общая сумма: {total_sum}\")\n",
        "        # Выводим текущую сумму после обработки батча\n",
        "        print(f\"Общая сумма после после обработки batch {batch_id}: {total_sum}\")"
      ],
      "metadata": {
        "id": "SUgVGjoHHbg1"
      },
      "execution_count": 11,
      "outputs": []
    },
    {
      "cell_type": "code",
      "source": [
        "# Запускаем поток и используем foreachBatch для обработки каждого батча\n",
        "query = odd_numbers.writeStream.outputMode(\"update\").foreachBatch(process_batch).start()"
      ],
      "metadata": {
        "id": "Zdx6wBK3HbdK"
      },
      "execution_count": 12,
      "outputs": []
    },
    {
      "cell_type": "code",
      "source": [
        "# Ожидаем завершения потока (например, 30 секунд)\n",
        "import time\n",
        "time.sleep(30)\n",
        "# Останавливаем поток\n",
        "query.stop()"
      ],
      "metadata": {
        "colab": {
          "base_uri": "https://localhost:8080/"
        },
        "id": "lBbGCeRjHbYt",
        "outputId": "8df840ea-c502-4e6c-f5d8-3557ad5a9e21"
      },
      "execution_count": 13,
      "outputs": [
        {
          "output_type": "stream",
          "name": "stdout",
          "text": [
            "Обработка batch ID: 0\n",
            "Обработка batch ID: 1\n",
            "Получено нечетное число: 1, Текущая общая сумма: 1\n",
            "Общая сумма после после обработки batch 1: 1\n",
            "Обработка batch ID: 2\n",
            "Получено нечетное число: 3, Текущая общая сумма: 4\n",
            "Общая сумма после после обработки batch 2: 4\n",
            "Обработка batch ID: 3\n",
            "Получено нечетное число: 5, Текущая общая сумма: 9\n",
            "Общая сумма после после обработки batch 3: 9\n",
            "Обработка batch ID: 4\n",
            "Обработка batch ID: 5\n",
            "Получено нечетное число: 7, Текущая общая сумма: 16\n",
            "Общая сумма после после обработки batch 5: 16\n",
            "Обработка batch ID: 6\n",
            "Обработка batch ID: 7\n",
            "Получено нечетное число: 9, Текущая общая сумма: 25\n",
            "Общая сумма после после обработки batch 7: 25\n",
            "Обработка batch ID: 8\n",
            "Обработка batch ID: 9\n",
            "Получено нечетное число: 1, Текущая общая сумма: 26\n",
            "Общая сумма после после обработки batch 9: 26\n",
            "Обработка batch ID: 10\n",
            "Обработка batch ID: 11\n",
            "Получено нечетное число: 3, Текущая общая сумма: 29\n",
            "Общая сумма после после обработки batch 11: 29\n",
            "Обработка batch ID: 12\n",
            "Обработка batch ID: 13\n",
            "Получено нечетное число: 5, Текущая общая сумма: 34\n",
            "Общая сумма после после обработки batch 13: 34\n",
            "Обработка batch ID: 14\n",
            "Обработка batch ID: 15\n",
            "Получено нечетное число: 7, Текущая общая сумма: 41\n",
            "Общая сумма после после обработки batch 15: 41\n",
            "Обработка batch ID: 16\n",
            "Обработка batch ID: 17\n",
            "Получено нечетное число: 9, Текущая общая сумма: 50\n",
            "Общая сумма после после обработки batch 17: 50\n",
            "Обработка batch ID: 18\n",
            "Обработка batch ID: 19\n",
            "Получено нечетное число: 1, Текущая общая сумма: 51\n",
            "Общая сумма после после обработки batch 19: 51\n",
            "Обработка batch ID: 20\n",
            "Обработка batch ID: 21\n",
            "Получено нечетное число: 3, Текущая общая сумма: 54\n",
            "Общая сумма после после обработки batch 21: 54\n",
            "Обработка batch ID: 22\n",
            "Обработка batch ID: 23\n",
            "Получено нечетное число: 5, Текущая общая сумма: 59\n",
            "Общая сумма после после обработки batch 23: 59\n",
            "Обработка batch ID: 24\n",
            "Обработка batch ID: 25\n",
            "Получено нечетное число: 7, Текущая общая сумма: 66\n",
            "Общая сумма после после обработки batch 25: 66\n",
            "Обработка batch ID: 26\n",
            "Обработка batch ID: 27\n",
            "Получено нечетное число: 9, Текущая общая сумма: 75\n",
            "Общая сумма после после обработки batch 27: 75\n",
            "Обработка batch ID: 28\n"
          ]
        }
      ]
    },
    {
      "cell_type": "code",
      "source": [],
      "metadata": {
        "id": "qeACa51iHbPg"
      },
      "execution_count": null,
      "outputs": []
    }
  ]
}